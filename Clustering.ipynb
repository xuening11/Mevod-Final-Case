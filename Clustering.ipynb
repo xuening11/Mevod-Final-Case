{
 "cells": [
  {
   "cell_type": "markdown",
   "id": "682cf604",
   "metadata": {},
   "source": [
    "## Data Preprocessing"
   ]
  },
  {
   "cell_type": "code",
   "execution_count": null,
   "id": "86b3992f",
   "metadata": {},
   "outputs": [],
   "source": [
    "import pandas as pd\n",
    "import numpy as np\n",
    "import copy"
   ]
  },
  {
   "cell_type": "code",
   "execution_count": 2,
   "id": "0b217322",
   "metadata": {},
   "outputs": [],
   "source": [
    "df = pd.read_csv(\"subscribers.csv\")"
   ]
  },
  {
   "cell_type": "code",
   "execution_count": 3,
   "id": "58272ad8",
   "metadata": {},
   "outputs": [],
   "source": [
    "column_list = ['package_type','preferred_genre','intended_use','weekly_consumption_hour','age','male_TF']\n",
    "data1 = df[column_list]"
   ]
  },
  {
   "cell_type": "code",
   "execution_count": 4,
   "id": "fa0ae923",
   "metadata": {},
   "outputs": [],
   "source": [
    "data1 = data1.dropna()"
   ]
  },
  {
   "cell_type": "code",
   "execution_count": 5,
   "id": "d004cbd6",
   "metadata": {},
   "outputs": [],
   "source": [
    "data1.drop(data1[data1.age > 80].index, inplace=True)\n",
    "data1.drop(data1[data1.age < 15].index, inplace=True)"
   ]
  },
  {
   "cell_type": "code",
   "execution_count": 6,
   "id": "2205fc9f",
   "metadata": {},
   "outputs": [
    {
     "name": "stdout",
     "output_type": "stream",
     "text": [
      "Index(['weekly_consumption_hour', 'age', 'package_type_base',\n",
      "       'package_type_economy', 'package_type_enhanced',\n",
      "       'preferred_genre_comedy', 'preferred_genre_drama',\n",
      "       'preferred_genre_international', 'preferred_genre_other',\n",
      "       'preferred_genre_regional', 'intended_use_access to exclusive content',\n",
      "       'intended_use_education', 'intended_use_expand international access',\n",
      "       'intended_use_expand regional access', 'intended_use_other',\n",
      "       'intended_use_replace OTT', 'intended_use_supplement OTT',\n",
      "       'male_TF_False', 'male_TF_True'],\n",
      "      dtype='object')\n",
      "(153860, 19)\n"
     ]
    }
   ],
   "source": [
    "data2 = pd.get_dummies(data = data1, columns=['package_type', 'preferred_genre', 'intended_use','male_TF'])\n",
    "print(data2.columns)\n",
    "print(data2.shape)"
   ]
  },
  {
   "cell_type": "code",
   "execution_count": 7,
   "id": "61df9422",
   "metadata": {},
   "outputs": [],
   "source": [
    "data_cleaned_dummified = data2.copy()\n",
    "data_cleaned_dummified.to_csv('subscribers_cleaned_dummified.csv', index=False)"
   ]
  },
  {
   "cell_type": "markdown",
   "id": "4b4a5389",
   "metadata": {},
   "source": [
    "## 1. Customer Segmentation"
   ]
  },
  {
   "cell_type": "code",
   "execution_count": 8,
   "id": "95e2f5a6",
   "metadata": {},
   "outputs": [],
   "source": [
    "from scipy import stats\n",
    "from sklearn.mixture import GaussianMixture\n",
    "from sklearn.model_selection import train_test_split"
   ]
  },
  {
   "cell_type": "code",
   "execution_count": 9,
   "id": "b2c59931",
   "metadata": {},
   "outputs": [],
   "source": [
    "from sklearn.preprocessing import OneHotEncoder\n",
    "from sklearn.cluster import KMeans\n",
    "import matplotlib.pylab as plt\n",
    "import datetime"
   ]
  },
  {
   "cell_type": "code",
   "execution_count": 10,
   "id": "2d7b89cd",
   "metadata": {},
   "outputs": [],
   "source": [
    "pd.set_option('display.max_columns', 25)"
   ]
  },
  {
   "cell_type": "code",
   "execution_count": 11,
   "id": "913410df",
   "metadata": {},
   "outputs": [],
   "source": [
    "def run_kmeans(n_clusters_f, init_f, df_f):\n",
    "    k_means_model_f = KMeans(n_clusters=n_clusters_f, init=init_f).fit_predict(df_f)\n",
    "    k_means_model_f = pd.DataFrame(k_means_model_f)\n",
    "    k_means_model_f['123'] = df_f.index\n",
    "    k_means_model_f = k_means_model_f.set_index('123', drop=True, append=False, inplace=False, verify_integrity=False)\n",
    "    k_means_model_f.columns = ['predict_cluster_kmeans']\n",
    "\n",
    "    df_f = pd.concat([df_f, k_means_model_f], axis=1, join='outer')\n",
    "\n",
    "    k_means_model_f_summary = df_f.groupby('predict_cluster_kmeans').agg(attribute_summary_method_dict)\n",
    "    return k_means_model_f, k_means_model_f_summary"
   ]
  },
  {
   "cell_type": "code",
   "execution_count": 12,
   "id": "3a9f9a33",
   "metadata": {},
   "outputs": [],
   "source": [
    "df_cluster = pd.read_csv('subscribers_cleaned_dummified.csv')"
   ]
  },
  {
   "cell_type": "code",
   "execution_count": 13,
   "id": "c16b2abc",
   "metadata": {},
   "outputs": [],
   "source": [
    "n_clusters = 3\n",
    "init_point_selection_method = 'k-means++'"
   ]
  },
  {
   "cell_type": "code",
   "execution_count": 14,
   "id": "5cfdac8e",
   "metadata": {},
   "outputs": [],
   "source": [
    "df_cluster_train, df_cluster_test, _, _, = train_test_split(df_cluster, [1]*df_cluster.shape[0], test_size=0.33) "
   ]
  },
  {
   "cell_type": "code",
   "execution_count": 15,
   "id": "38b478b4",
   "metadata": {},
   "outputs": [],
   "source": [
    "attribute_summary_method_dict = {'weekly_consumption_hour': np.mean, 'age': np.mean,'package_type_base':sum,'package_type_economy':sum,'package_type_enhanced':sum,'preferred_genre_comedy':sum,'preferred_genre_drama':sum,'preferred_genre_international':sum,'preferred_genre_other':sum,'preferred_genre_regional':sum,'intended_use_access to exclusive content':sum,'intended_use_education':sum,'intended_use_expand international access':sum,'intended_use_expand regional access':sum,'intended_use_other':sum,'intended_use_replace OTT':sum,'intended_use_supplement OTT':sum,'male_TF_False':sum,'male_TF_True':sum}\n",
    "col_output_order = ['weekly_consumption_hour', 'age', 'package_type_base',\n",
    "       'package_type_economy', 'package_type_enhanced',\n",
    "       'preferred_genre_comedy', 'preferred_genre_drama',\n",
    "       'preferred_genre_international', 'preferred_genre_other',\n",
    "       'preferred_genre_regional', 'intended_use_access to exclusive content',\n",
    "       'intended_use_education', 'intended_use_expand international access',\n",
    "       'intended_use_expand regional access', 'intended_use_other',\n",
    "       'intended_use_replace OTT', 'intended_use_supplement OTT',\n",
    "       'male_TF_False', 'male_TF_True'] "
   ]
  },
  {
   "cell_type": "code",
   "execution_count": 16,
   "id": "7a55a97c",
   "metadata": {},
   "outputs": [],
   "source": [
    "train_model, train_model_summary = run_kmeans(n_clusters, init_point_selection_method, df_cluster_train.reindex())"
   ]
  },
  {
   "cell_type": "code",
   "execution_count": 17,
   "id": "e98c664a",
   "metadata": {},
   "outputs": [],
   "source": [
    "test_model, test_model_summary = run_kmeans(n_clusters, init_point_selection_method, df_cluster_test.reindex())"
   ]
  },
  {
   "cell_type": "code",
   "execution_count": 18,
   "id": "5debe7df",
   "metadata": {},
   "outputs": [],
   "source": [
    "model, model_summary = run_kmeans(n_clusters, init_point_selection_method, df_cluster)"
   ]
  },
  {
   "cell_type": "code",
   "execution_count": 19,
   "id": "19c2d9cb",
   "metadata": {},
   "outputs": [],
   "source": [
    "ks = range(1, 10)\n",
    "inertias = []"
   ]
  },
  {
   "cell_type": "code",
   "execution_count": 20,
   "id": "f7ce85e4",
   "metadata": {},
   "outputs": [],
   "source": [
    "for k in ks:\n",
    "    model = KMeans(n_clusters=k, n_init=10)\n",
    "    model.fit(df_cluster)\n",
    "    inertias.append(model.inertia_)"
   ]
  },
  {
   "cell_type": "code",
   "execution_count": 21,
   "id": "b31cdd55",
   "metadata": {},
   "outputs": [
    {
     "data": {
      "image/png": "[encoded data removed]",
      "text/plain": [
       "<Figure size 432x288 with 1 Axes>"
      ]
     },
     "metadata": {
      "needs_background": "light"
     },
     "output_type": "display_data"
    }
   ],
   "source": [
    "plt.plot(ks, inertias, '-o')\n",
    "plt.xlabel('number of clusters, k')\n",
    "plt.ylabel('inertia')\n",
    "plt.xticks(ks)\n",
    "plt.show()"
   ]
  },
  {
   "cell_type": "code",
   "execution_count": 22,
   "id": "3d292618",
   "metadata": {},
   "outputs": [],
   "source": [
    "model = KMeans(n_clusters=3, n_init=10)\n",
    "model.fit(df_cluster)\n",
    "output = pd.DataFrame(model.cluster_centers_)\n",
    "output.columns = df_cluster.columns\n",
    "output.to_csv('Kmeans_output.csv')"
   ]
  }
 ],
 "metadata": {
  "kernelspec": {
   "display_name": "Python 3 (ipykernel)",
   "language": "python",
   "name": "python3"
  },
  "language_info": {
   "codemirror_mode": {
    "name": "ipython",
    "version": 3
   },
   "file_extension": ".py",
   "mimetype": "text/x-python",
   "name": "python",
   "nbconvert_exporter": "python",
   "pygments_lexer": "ipython3",
   "version": "3.9.12"
  }
 },
 "nbformat": 4,
 "nbformat_minor": 5
}
