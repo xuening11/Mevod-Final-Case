{
 "cells": [
  {
   "cell_type": "markdown",
   "source": [
    "## 2. Channel Allocation"
   ],
   "metadata": {
    "collapsed": false,
    "pycharm": {
     "name": "#%% md\n"
    }
   }
  },
  {
   "cell_type": "code",
   "execution_count": 1,
   "outputs": [
    {
     "data": {
      "text/plain": "   Unnamed: 0     subid package_type  num_weekly_services_utilized  \\\n0      162502  21724479      economy                           NaN   \n1      380374  23383224         base                           NaN   \n2      496617  26844789     enhanced                           3.0   \n3      356799  29417030         base                           NaN   \n4      681701  26723159         base                           4.0   \n\n  preferred_genre                 intended_use  weekly_consumption_hour  \\\n0          comedy  access to exclusive content                      NaN   \n1          comedy  access to exclusive content                22.951579   \n2        regional                  replace OTT                36.001186   \n3           drama                  replace OTT                20.051667   \n4          comedy                  replace OTT                22.951579   \n\n   num_ideal_streaming_services   age male_TF  ... join_fee language  \\\n0                           NaN   NaN   False  ...      NaN       ar   \n1                           NaN  70.0   False  ...   0.3303       ar   \n2                           2.0  25.0    True  ...   0.1101       ar   \n3                           NaN  30.0   False  ...   0.0367       ar   \n4                           3.0  28.0   False  ...   0.0367       ar   \n\n       payment_type num_trial_days  current_sub_TF payment_period  \\\n0  Standard Charter             14            True              1   \n1               NaN             14            True              1   \n2               NaN             14           False              0   \n3               NaN             14           False              0   \n4               NaN             14            True              2   \n\n          last_payment         next_payment cancel_date trial_completed  \n0  2020-02-07 21:44:16  2020-06-07 21:44:16         NaN            True  \n1  2020-03-15 15:44:35  2020-07-15 15:44:35         NaN            True  \n2                  NaN                  NaN         NaN            True  \n3                  NaN                  NaN         NaN            True  \n4  2020-02-19 12:57:07  2020-06-19 12:57:07         NaN            True  \n\n[5 rows x 31 columns]",
      "text/html": "<div>\n<style scoped>\n    .dataframe tbody tr th:only-of-type {\n        vertical-align: middle;\n    }\n\n    .dataframe tbody tr th {\n        vertical-align: top;\n    }\n\n    .dataframe thead th {\n        text-align: right;\n    }\n</style>\n<table border=\"1\" class=\"dataframe\">\n  <thead>\n    <tr style=\"text-align: right;\">\n      <th></th>\n      <th>Unnamed: 0</th>\n      <th>subid</th>\n      <th>package_type</th>\n      <th>num_weekly_services_utilized</th>\n      <th>preferred_genre</th>\n      <th>intended_use</th>\n      <th>weekly_consumption_hour</th>\n      <th>num_ideal_streaming_services</th>\n      <th>age</th>\n      <th>male_TF</th>\n      <th>...</th>\n      <th>join_fee</th>\n      <th>language</th>\n      <th>payment_type</th>\n      <th>num_trial_days</th>\n      <th>current_sub_TF</th>\n      <th>payment_period</th>\n      <th>last_payment</th>\n      <th>next_payment</th>\n      <th>cancel_date</th>\n      <th>trial_completed</th>\n    </tr>\n  </thead>\n  <tbody>\n    <tr>\n      <th>0</th>\n      <td>162502</td>\n      <td>21724479</td>\n      <td>economy</td>\n      <td>NaN</td>\n      <td>comedy</td>\n      <td>access to exclusive content</td>\n      <td>NaN</td>\n      <td>NaN</td>\n      <td>NaN</td>\n      <td>False</td>\n      <td>...</td>\n      <td>NaN</td>\n      <td>ar</td>\n      <td>Standard Charter</td>\n      <td>14</td>\n      <td>True</td>\n      <td>1</td>\n      <td>2020-02-07 21:44:16</td>\n      <td>2020-06-07 21:44:16</td>\n      <td>NaN</td>\n      <td>True</td>\n    </tr>\n    <tr>\n      <th>1</th>\n      <td>380374</td>\n      <td>23383224</td>\n      <td>base</td>\n      <td>NaN</td>\n      <td>comedy</td>\n      <td>access to exclusive content</td>\n      <td>22.951579</td>\n      <td>NaN</td>\n      <td>70.0</td>\n      <td>False</td>\n      <td>...</td>\n      <td>0.3303</td>\n      <td>ar</td>\n      <td>NaN</td>\n      <td>14</td>\n      <td>True</td>\n      <td>1</td>\n      <td>2020-03-15 15:44:35</td>\n      <td>2020-07-15 15:44:35</td>\n      <td>NaN</td>\n      <td>True</td>\n    </tr>\n    <tr>\n      <th>2</th>\n      <td>496617</td>\n      <td>26844789</td>\n      <td>enhanced</td>\n      <td>3.0</td>\n      <td>regional</td>\n      <td>replace OTT</td>\n      <td>36.001186</td>\n      <td>2.0</td>\n      <td>25.0</td>\n      <td>True</td>\n      <td>...</td>\n      <td>0.1101</td>\n      <td>ar</td>\n      <td>NaN</td>\n      <td>14</td>\n      <td>False</td>\n      <td>0</td>\n      <td>NaN</td>\n      <td>NaN</td>\n      <td>NaN</td>\n      <td>True</td>\n    </tr>\n    <tr>\n      <th>3</th>\n      <td>356799</td>\n      <td>29417030</td>\n      <td>base</td>\n      <td>NaN</td>\n      <td>drama</td>\n      <td>replace OTT</td>\n      <td>20.051667</td>\n      <td>NaN</td>\n      <td>30.0</td>\n      <td>False</td>\n      <td>...</td>\n      <td>0.0367</td>\n      <td>ar</td>\n      <td>NaN</td>\n      <td>14</td>\n      <td>False</td>\n      <td>0</td>\n      <td>NaN</td>\n      <td>NaN</td>\n      <td>NaN</td>\n      <td>True</td>\n    </tr>\n    <tr>\n      <th>4</th>\n      <td>681701</td>\n      <td>26723159</td>\n      <td>base</td>\n      <td>4.0</td>\n      <td>comedy</td>\n      <td>replace OTT</td>\n      <td>22.951579</td>\n      <td>3.0</td>\n      <td>28.0</td>\n      <td>False</td>\n      <td>...</td>\n      <td>0.0367</td>\n      <td>ar</td>\n      <td>NaN</td>\n      <td>14</td>\n      <td>True</td>\n      <td>2</td>\n      <td>2020-02-19 12:57:07</td>\n      <td>2020-06-19 12:57:07</td>\n      <td>NaN</td>\n      <td>True</td>\n    </tr>\n  </tbody>\n</table>\n<p>5 rows × 31 columns</p>\n</div>"
     },
     "execution_count": 1,
     "metadata": {},
     "output_type": "execute_result"
    }
   ],
   "source": [
    "import pandas as pd\n",
    "data = pd.read_csv(\"subscribers.csv\")\n",
    "data.head()\n",
    "subscriber_df = data.copy()\n",
    "subscriber_df.head()"
   ],
   "metadata": {
    "collapsed": false,
    "pycharm": {
     "name": "#%%\n"
    }
   }
  },
  {
   "cell_type": "code",
   "execution_count": 2,
   "outputs": [
    {
     "data": {
      "text/plain": "    channel    date spend_AED\n0      bing  201907       400\n1   display  201907        12\n2  facebook  201907      9000\n3    search  201907     13000\n4   youtube  201907        90",
      "text/html": "<div>\n<style scoped>\n    .dataframe tbody tr th:only-of-type {\n        vertical-align: middle;\n    }\n\n    .dataframe tbody tr th {\n        vertical-align: top;\n    }\n\n    .dataframe thead th {\n        text-align: right;\n    }\n</style>\n<table border=\"1\" class=\"dataframe\">\n  <thead>\n    <tr style=\"text-align: right;\">\n      <th></th>\n      <th>channel</th>\n      <th>date</th>\n      <th>spend_AED</th>\n    </tr>\n  </thead>\n  <tbody>\n    <tr>\n      <th>0</th>\n      <td>bing</td>\n      <td>201907</td>\n      <td>400</td>\n    </tr>\n    <tr>\n      <th>1</th>\n      <td>display</td>\n      <td>201907</td>\n      <td>12</td>\n    </tr>\n    <tr>\n      <th>2</th>\n      <td>facebook</td>\n      <td>201907</td>\n      <td>9000</td>\n    </tr>\n    <tr>\n      <th>3</th>\n      <td>search</td>\n      <td>201907</td>\n      <td>13000</td>\n    </tr>\n    <tr>\n      <th>4</th>\n      <td>youtube</td>\n      <td>201907</td>\n      <td>90</td>\n    </tr>\n  </tbody>\n</table>\n</div>"
     },
     "execution_count": 2,
     "metadata": {},
     "output_type": "execute_result"
    }
   ],
   "source": [
    "channel_spend_raw = pd.read_csv('channel_spend_graduate.csv', dtype=str)\n",
    "channel_spend = channel_spend_raw.copy()\n",
    "channel_spend.head()"
   ],
   "metadata": {
    "collapsed": false,
    "pycharm": {
     "name": "#%%\n"
    }
   }
  },
  {
   "cell_type": "code",
   "execution_count": 3,
   "outputs": [
    {
     "data": {
      "text/plain": "    channel    date spend_AED  year  month  sales\n0      bing  201907       400     0      0      0\n1   display  201907        12     0      0      0\n2  facebook  201907      9000     0      0      0\n3    search  201907     13000     0      0      0\n4   youtube  201907        90     0      0      0",
      "text/html": "<div>\n<style scoped>\n    .dataframe tbody tr th:only-of-type {\n        vertical-align: middle;\n    }\n\n    .dataframe tbody tr th {\n        vertical-align: top;\n    }\n\n    .dataframe thead th {\n        text-align: right;\n    }\n</style>\n<table border=\"1\" class=\"dataframe\">\n  <thead>\n    <tr style=\"text-align: right;\">\n      <th></th>\n      <th>channel</th>\n      <th>date</th>\n      <th>spend_AED</th>\n      <th>year</th>\n      <th>month</th>\n      <th>sales</th>\n    </tr>\n  </thead>\n  <tbody>\n    <tr>\n      <th>0</th>\n      <td>bing</td>\n      <td>201907</td>\n      <td>400</td>\n      <td>0</td>\n      <td>0</td>\n      <td>0</td>\n    </tr>\n    <tr>\n      <th>1</th>\n      <td>display</td>\n      <td>201907</td>\n      <td>12</td>\n      <td>0</td>\n      <td>0</td>\n      <td>0</td>\n    </tr>\n    <tr>\n      <th>2</th>\n      <td>facebook</td>\n      <td>201907</td>\n      <td>9000</td>\n      <td>0</td>\n      <td>0</td>\n      <td>0</td>\n    </tr>\n    <tr>\n      <th>3</th>\n      <td>search</td>\n      <td>201907</td>\n      <td>13000</td>\n      <td>0</td>\n      <td>0</td>\n      <td>0</td>\n    </tr>\n    <tr>\n      <th>4</th>\n      <td>youtube</td>\n      <td>201907</td>\n      <td>90</td>\n      <td>0</td>\n      <td>0</td>\n      <td>0</td>\n    </tr>\n  </tbody>\n</table>\n</div>"
     },
     "execution_count": 3,
     "metadata": {},
     "output_type": "execute_result"
    }
   ],
   "source": [
    "channel_spend['year'] = 0\n",
    "channel_spend['month'] = 0\n",
    "channel_spend['sales'] = 0\n",
    "channel_spend.head()"
   ],
   "metadata": {
    "collapsed": false,
    "pycharm": {
     "name": "#%%\n"
    }
   }
  },
  {
   "cell_type": "code",
   "execution_count": 4,
   "outputs": [],
   "source": [
    "subscriber_df['account_creation_date'] = pd.to_datetime(subscriber_df['account_creation_date'])\n",
    "subscriber_df['account_creation_year'] = subscriber_df['account_creation_date'].map(lambda row: row.year)\n",
    "subscriber_df['account_creation_month'] = subscriber_df['account_creation_date'].map(lambda row: row.month)"
   ],
   "metadata": {
    "collapsed": false,
    "pycharm": {
     "name": "#%%\n"
    }
   }
  },
  {
   "cell_type": "code",
   "execution_count": 5,
   "outputs": [],
   "source": [
    "def find_sales(row):\n",
    "    row_month = int(row['date'][-2:])\n",
    "    row_year = int(row['date'][:4])\n",
    "    row['month'] = row_month\n",
    "    row['year'] = row_year\n",
    "    row['sales'] = subscriber_df['subid'][(subscriber_df['account_creation_month'] == row_month)\n",
    "                                         & (subscriber_df['account_creation_year'] == row_year)\n",
    "                                         & (subscriber_df['attribution_technical'] == row['channel'])].count()\n",
    "    return row"
   ],
   "metadata": {
    "collapsed": false,
    "pycharm": {
     "name": "#%%\n"
    }
   }
  },
  {
   "cell_type": "code",
   "execution_count": 6,
   "outputs": [
    {
     "data": {
      "text/plain": "    channel    date spend_AED  year  month  sales\n0      bing  201907       400  2019      7    120\n1   display  201907        12  2019      7     44\n2  facebook  201907      9000  2019      7  10011\n3    search  201907     13000  2019      7   1328\n4   youtube  201907        90  2019      7      8",
      "text/html": "<div>\n<style scoped>\n    .dataframe tbody tr th:only-of-type {\n        vertical-align: middle;\n    }\n\n    .dataframe tbody tr th {\n        vertical-align: top;\n    }\n\n    .dataframe thead th {\n        text-align: right;\n    }\n</style>\n<table border=\"1\" class=\"dataframe\">\n  <thead>\n    <tr style=\"text-align: right;\">\n      <th></th>\n      <th>channel</th>\n      <th>date</th>\n      <th>spend_AED</th>\n      <th>year</th>\n      <th>month</th>\n      <th>sales</th>\n    </tr>\n  </thead>\n  <tbody>\n    <tr>\n      <th>0</th>\n      <td>bing</td>\n      <td>201907</td>\n      <td>400</td>\n      <td>2019</td>\n      <td>7</td>\n      <td>120</td>\n    </tr>\n    <tr>\n      <th>1</th>\n      <td>display</td>\n      <td>201907</td>\n      <td>12</td>\n      <td>2019</td>\n      <td>7</td>\n      <td>44</td>\n    </tr>\n    <tr>\n      <th>2</th>\n      <td>facebook</td>\n      <td>201907</td>\n      <td>9000</td>\n      <td>2019</td>\n      <td>7</td>\n      <td>10011</td>\n    </tr>\n    <tr>\n      <th>3</th>\n      <td>search</td>\n      <td>201907</td>\n      <td>13000</td>\n      <td>2019</td>\n      <td>7</td>\n      <td>1328</td>\n    </tr>\n    <tr>\n      <th>4</th>\n      <td>youtube</td>\n      <td>201907</td>\n      <td>90</td>\n      <td>2019</td>\n      <td>7</td>\n      <td>8</td>\n    </tr>\n  </tbody>\n</table>\n</div>"
     },
     "execution_count": 6,
     "metadata": {},
     "output_type": "execute_result"
    }
   ],
   "source": [
    "channel_spend = channel_spend.apply(find_sales, axis=1)\n",
    "channel_spend.head()"
   ],
   "metadata": {
    "collapsed": false,
    "pycharm": {
     "name": "#%%\n"
    }
   }
  },
  {
   "cell_type": "code",
   "execution_count": 7,
   "outputs": [
    {
     "data": {
      "text/plain": "               spend_AED  year  month  sales\nchannel date                                \nbing    201907       400  2019      7    120\n        201908       900  2019      8     71\n        201909      1000  2019      9     84\n        201910      1100  2019     10     86\n        201911      1300  2019     11    103",
      "text/html": "<div>\n<style scoped>\n    .dataframe tbody tr th:only-of-type {\n        vertical-align: middle;\n    }\n\n    .dataframe tbody tr th {\n        vertical-align: top;\n    }\n\n    .dataframe thead th {\n        text-align: right;\n    }\n</style>\n<table border=\"1\" class=\"dataframe\">\n  <thead>\n    <tr style=\"text-align: right;\">\n      <th></th>\n      <th></th>\n      <th>spend_AED</th>\n      <th>year</th>\n      <th>month</th>\n      <th>sales</th>\n    </tr>\n    <tr>\n      <th>channel</th>\n      <th>date</th>\n      <th></th>\n      <th></th>\n      <th></th>\n      <th></th>\n    </tr>\n  </thead>\n  <tbody>\n    <tr>\n      <th rowspan=\"5\" valign=\"top\">bing</th>\n      <th>201907</th>\n      <td>400</td>\n      <td>2019</td>\n      <td>7</td>\n      <td>120</td>\n    </tr>\n    <tr>\n      <th>201908</th>\n      <td>900</td>\n      <td>2019</td>\n      <td>8</td>\n      <td>71</td>\n    </tr>\n    <tr>\n      <th>201909</th>\n      <td>1000</td>\n      <td>2019</td>\n      <td>9</td>\n      <td>84</td>\n    </tr>\n    <tr>\n      <th>201910</th>\n      <td>1100</td>\n      <td>2019</td>\n      <td>10</td>\n      <td>86</td>\n    </tr>\n    <tr>\n      <th>201911</th>\n      <td>1300</td>\n      <td>2019</td>\n      <td>11</td>\n      <td>103</td>\n    </tr>\n  </tbody>\n</table>\n</div>"
     },
     "execution_count": 7,
     "metadata": {},
     "output_type": "execute_result"
    }
   ],
   "source": [
    "channel_spend = channel_spend.sort_values(by=['channel', 'year', 'month']).set_index(['channel', 'date'])\n",
    "channel_spend.head()"
   ],
   "metadata": {
    "collapsed": false,
    "pycharm": {
     "name": "#%%\n"
    }
   }
  },
  {
   "cell_type": "code",
   "execution_count": 8,
   "outputs": [
    {
     "data": {
      "text/plain": "                spend_AED  year  month  sales\nchannel  date                                \nbing     201907       400  2019      7    120\n         201908       900  2019      8     71\n         201909      1000  2019      9     84\n         201910      1100  2019     10     86\n         201911      1300  2019     11    103\n         201912       300  2019     12     28\n         202001      2100  2020      1    172\n         202002      3700  2020      2    303\ndisplay  201907        12  2019      7     44\n         201908        20  2019      8     74\n         201909        13  2019      9     12\n         201910        19  2019     10     50\n         201911        29  2019     11     90\n         201912        31  2019     12    112\n         202001       148  2020      1    536\n         202002        94  2020      2    341\nfacebook 201907      9000  2019      7  10011\n         201908     13000  2019      8   9855\n         201909     10500  2019      9   6129\n         201910     17000  2019     10   9489\n         201911     23000  2019     11  12995\n         201912     16000  2019     12   9288\n         202001     11000  2020      1   6289\n         202002     14000  2020      2   7988\nsearch   201907     13000  2019      7   1328\n         201908     18500  2019      8   1939\n         201909     19000  2019      9   1852\n         201910     24000  2019     10   2333\n         201911     25000  2019     11   2510\n         201912     38000  2019     12   3770\n         202001     41000  2020      1   4073\n         202002     44000  2020      2   4300\nyoutube  201907        90  2019      7      8\n         201908       180  2019      8     15\n         201909       100  2019      9      2\n         201910       130  2019     10     11\n         201911       550  2019     11     47\n         201912       900  2019     12     76\n         202001      4360  2020      1    370\n         202002      2420  2020      2    205",
      "text/html": "<div>\n<style scoped>\n    .dataframe tbody tr th:only-of-type {\n        vertical-align: middle;\n    }\n\n    .dataframe tbody tr th {\n        vertical-align: top;\n    }\n\n    .dataframe thead th {\n        text-align: right;\n    }\n</style>\n<table border=\"1\" class=\"dataframe\">\n  <thead>\n    <tr style=\"text-align: right;\">\n      <th></th>\n      <th></th>\n      <th>spend_AED</th>\n      <th>year</th>\n      <th>month</th>\n      <th>sales</th>\n    </tr>\n    <tr>\n      <th>channel</th>\n      <th>date</th>\n      <th></th>\n      <th></th>\n      <th></th>\n      <th></th>\n    </tr>\n  </thead>\n  <tbody>\n    <tr>\n      <th rowspan=\"8\" valign=\"top\">bing</th>\n      <th>201907</th>\n      <td>400</td>\n      <td>2019</td>\n      <td>7</td>\n      <td>120</td>\n    </tr>\n    <tr>\n      <th>201908</th>\n      <td>900</td>\n      <td>2019</td>\n      <td>8</td>\n      <td>71</td>\n    </tr>\n    <tr>\n      <th>201909</th>\n      <td>1000</td>\n      <td>2019</td>\n      <td>9</td>\n      <td>84</td>\n    </tr>\n    <tr>\n      <th>201910</th>\n      <td>1100</td>\n      <td>2019</td>\n      <td>10</td>\n      <td>86</td>\n    </tr>\n    <tr>\n      <th>201911</th>\n      <td>1300</td>\n      <td>2019</td>\n      <td>11</td>\n      <td>103</td>\n    </tr>\n    <tr>\n      <th>201912</th>\n      <td>300</td>\n      <td>2019</td>\n      <td>12</td>\n      <td>28</td>\n    </tr>\n    <tr>\n      <th>202001</th>\n      <td>2100</td>\n      <td>2020</td>\n      <td>1</td>\n      <td>172</td>\n    </tr>\n    <tr>\n      <th>202002</th>\n      <td>3700</td>\n      <td>2020</td>\n      <td>2</td>\n      <td>303</td>\n    </tr>\n    <tr>\n      <th rowspan=\"8\" valign=\"top\">display</th>\n      <th>201907</th>\n      <td>12</td>\n      <td>2019</td>\n      <td>7</td>\n      <td>44</td>\n    </tr>\n    <tr>\n      <th>201908</th>\n      <td>20</td>\n      <td>2019</td>\n      <td>8</td>\n      <td>74</td>\n    </tr>\n    <tr>\n      <th>201909</th>\n      <td>13</td>\n      <td>2019</td>\n      <td>9</td>\n      <td>12</td>\n    </tr>\n    <tr>\n      <th>201910</th>\n      <td>19</td>\n      <td>2019</td>\n      <td>10</td>\n      <td>50</td>\n    </tr>\n    <tr>\n      <th>201911</th>\n      <td>29</td>\n      <td>2019</td>\n      <td>11</td>\n      <td>90</td>\n    </tr>\n    <tr>\n      <th>201912</th>\n      <td>31</td>\n      <td>2019</td>\n      <td>12</td>\n      <td>112</td>\n    </tr>\n    <tr>\n      <th>202001</th>\n      <td>148</td>\n      <td>2020</td>\n      <td>1</td>\n      <td>536</td>\n    </tr>\n    <tr>\n      <th>202002</th>\n      <td>94</td>\n      <td>2020</td>\n      <td>2</td>\n      <td>341</td>\n    </tr>\n    <tr>\n      <th rowspan=\"8\" valign=\"top\">facebook</th>\n      <th>201907</th>\n      <td>9000</td>\n      <td>2019</td>\n      <td>7</td>\n      <td>10011</td>\n    </tr>\n    <tr>\n      <th>201908</th>\n      <td>13000</td>\n      <td>2019</td>\n      <td>8</td>\n      <td>9855</td>\n    </tr>\n    <tr>\n      <th>201909</th>\n      <td>10500</td>\n      <td>2019</td>\n      <td>9</td>\n      <td>6129</td>\n    </tr>\n    <tr>\n      <th>201910</th>\n      <td>17000</td>\n      <td>2019</td>\n      <td>10</td>\n      <td>9489</td>\n    </tr>\n    <tr>\n      <th>201911</th>\n      <td>23000</td>\n      <td>2019</td>\n      <td>11</td>\n      <td>12995</td>\n    </tr>\n    <tr>\n      <th>201912</th>\n      <td>16000</td>\n      <td>2019</td>\n      <td>12</td>\n      <td>9288</td>\n    </tr>\n    <tr>\n      <th>202001</th>\n      <td>11000</td>\n      <td>2020</td>\n      <td>1</td>\n      <td>6289</td>\n    </tr>\n    <tr>\n      <th>202002</th>\n      <td>14000</td>\n      <td>2020</td>\n      <td>2</td>\n      <td>7988</td>\n    </tr>\n    <tr>\n      <th rowspan=\"8\" valign=\"top\">search</th>\n      <th>201907</th>\n      <td>13000</td>\n      <td>2019</td>\n      <td>7</td>\n      <td>1328</td>\n    </tr>\n    <tr>\n      <th>201908</th>\n      <td>18500</td>\n      <td>2019</td>\n      <td>8</td>\n      <td>1939</td>\n    </tr>\n    <tr>\n      <th>201909</th>\n      <td>19000</td>\n      <td>2019</td>\n      <td>9</td>\n      <td>1852</td>\n    </tr>\n    <tr>\n      <th>201910</th>\n      <td>24000</td>\n      <td>2019</td>\n      <td>10</td>\n      <td>2333</td>\n    </tr>\n    <tr>\n      <th>201911</th>\n      <td>25000</td>\n      <td>2019</td>\n      <td>11</td>\n      <td>2510</td>\n    </tr>\n    <tr>\n      <th>201912</th>\n      <td>38000</td>\n      <td>2019</td>\n      <td>12</td>\n      <td>3770</td>\n    </tr>\n    <tr>\n      <th>202001</th>\n      <td>41000</td>\n      <td>2020</td>\n      <td>1</td>\n      <td>4073</td>\n    </tr>\n    <tr>\n      <th>202002</th>\n      <td>44000</td>\n      <td>2020</td>\n      <td>2</td>\n      <td>4300</td>\n    </tr>\n    <tr>\n      <th rowspan=\"8\" valign=\"top\">youtube</th>\n      <th>201907</th>\n      <td>90</td>\n      <td>2019</td>\n      <td>7</td>\n      <td>8</td>\n    </tr>\n    <tr>\n      <th>201908</th>\n      <td>180</td>\n      <td>2019</td>\n      <td>8</td>\n      <td>15</td>\n    </tr>\n    <tr>\n      <th>201909</th>\n      <td>100</td>\n      <td>2019</td>\n      <td>9</td>\n      <td>2</td>\n    </tr>\n    <tr>\n      <th>201910</th>\n      <td>130</td>\n      <td>2019</td>\n      <td>10</td>\n      <td>11</td>\n    </tr>\n    <tr>\n      <th>201911</th>\n      <td>550</td>\n      <td>2019</td>\n      <td>11</td>\n      <td>47</td>\n    </tr>\n    <tr>\n      <th>201912</th>\n      <td>900</td>\n      <td>2019</td>\n      <td>12</td>\n      <td>76</td>\n    </tr>\n    <tr>\n      <th>202001</th>\n      <td>4360</td>\n      <td>2020</td>\n      <td>1</td>\n      <td>370</td>\n    </tr>\n    <tr>\n      <th>202002</th>\n      <td>2420</td>\n      <td>2020</td>\n      <td>2</td>\n      <td>205</td>\n    </tr>\n  </tbody>\n</table>\n</div>"
     },
     "execution_count": 8,
     "metadata": {},
     "output_type": "execute_result"
    }
   ],
   "source": [
    "channel_spend"
   ],
   "metadata": {
    "collapsed": false,
    "pycharm": {
     "name": "#%%\n"
    }
   }
  },
  {
   "cell_type": "code",
   "execution_count": null,
   "outputs": [],
   "source": [],
   "metadata": {
    "collapsed": false,
    "pycharm": {
     "name": "#%%\n"
    }
   }
  }
 ],
 "metadata": {
  "kernelspec": {
   "display_name": "Python 3",
   "language": "python",
   "name": "python3"
  },
  "language_info": {
   "codemirror_mode": {
    "name": "ipython",
    "version": 2
   },
   "file_extension": ".py",
   "mimetype": "text/x-python",
   "name": "python",
   "nbconvert_exporter": "python",
   "pygments_lexer": "ipython2",
   "version": "2.7.6"
  }
 },
 "nbformat": 4,
 "nbformat_minor": 0
}